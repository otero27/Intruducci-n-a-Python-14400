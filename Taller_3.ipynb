{
  "nbformat": 4,
  "nbformat_minor": 0,
  "metadata": {
    "colab": {
      "provenance": [],
      "authorship_tag": "ABX9TyMQ32hzh5e7u0b1Zcl/QQ1u",
      "include_colab_link": true
    },
    "kernelspec": {
      "name": "python3",
      "display_name": "Python 3"
    },
    "language_info": {
      "name": "python"
    }
  },
  "cells": [
    {
      "cell_type": "markdown",
      "metadata": {
        "id": "view-in-github",
        "colab_type": "text"
      },
      "source": [
        "<a href=\"https://colab.research.google.com/github/otero27/Intruducci-n_a_Python_14400/blob/main/Taller_3.ipynb\" target=\"_parent\"><img src=\"https://colab.research.google.com/assets/colab-badge.svg\" alt=\"Open In Colab\"/></a>"
      ]
    },
    {
      "cell_type": "markdown",
      "source": [
        "Problema #2: Cálculo de la Tarifa de un Taxi"
      ],
      "metadata": {
        "id": "hGH15qDTMs9o"
      }
    },
    {
      "cell_type": "markdown",
      "source": [
        "**ALGORITMO**\n",
        "\n",
        "\n",
        "1. iniciar\n",
        "2. obtener la distancia recorrida en kilómetros\n",
        "3. obtener el tiempo de detención en minutos\n",
        "4. obtener la hora de inicio del viaje\n",
        "5. iniciar la tarifa base a 6000 COP\n",
        "6. Calcular la tarifa por kilómetros recorridos\n",
        "7. Si la distancia es menor o igual a 5 km, multiplica los kilómetros por 1500\n",
        "8. Si la distancia es mayor a 5 km pero menor o igual a 15 km\n",
        "9. Calcula los primeros 5 km con tarifa de 1500 COP\n",
        "10. Calcula los kilómetros adicionales con tarifa de 1200 COP\n",
        "11. Si la distancia es mayor a 15 km\n",
        "12. Calcular los primeros 5 km con tarifa de 1500 COP\n",
        "13. Calcularlos siguientes 10 km con tarifa de 1200 COP\n",
        "14. Calcular los kilómetros adicionales con tarifa de 1000 COP\n",
        "15. Calcular la tarifa por tiempo de detención (400 COP por minuto)\n",
        "16. Sumar la tarifa base, la tarifa por kilómetros y la tarifa por detención\n",
        "17. Si la hora de inicio es entre las 22:00 y las 06:00, aplicará una recarga nocturna del 20%\n",
        "18. Mostrar el total a pagar\n",
        "19. fin"
      ],
      "metadata": {
        "id": "BmJ25R4hH7gT"
      }
    },
    {
      "cell_type": "markdown",
      "source": [
        "**PSEUDOCODIGO**"
      ],
      "metadata": {
        "id": "fhHb0Jz4SQ-g"
      }
    },
    {
      "cell_type": "code",
      "source": [
        "inicio\n",
        "  calcular_tarifa_taxi con distancia, tiempo_detencion y hora_inicio\n",
        "  inicializar tarifa_base a 6000\n",
        "  si la distancia es menor o igual a 5 = tarifa_distancia = distancia * 1500\n",
        "  si la distancia es mayor a 5 y menor o igual a 15 = tarifa_distancia = (5 * 1500) + (distancia - 5) * 1200\n",
        "  si la distancia es mayor a 15 =  tarifa_distancia = (5 * 1500) + (10 * 1200) + (distancia - 15) * 1000\n",
        "  tarifa_detencion = tiempo_detencion * 400\n",
        "  subtotal = tarifa_base + tarifa_distancia + tarifa_detencion\n",
        "  si la hora de inicio es entre las 22:00 y las 06:00 ; total = subtotal * 1.2 (recargo nocturno)\n",
        "  sino ; total = subtotal\n",
        "  mostrar total\n",
        "fin"
      ],
      "metadata": {
        "id": "T0Q7HVfmat21"
      },
      "execution_count": null,
      "outputs": []
    },
    {
      "cell_type": "markdown",
      "source": [
        "**CODIGO EN PYTHON**"
      ],
      "metadata": {
        "id": "hdTB05vmeo8y"
      }
    },
    {
      "cell_type": "code",
      "source": [
        "# Función para calcular la tarifa del taxi\n",
        "def calcular_tarifa_taxi(distancia, tiempo_detencion, hora_inicio):\n",
        "    # Calcular la tarifa por kilómetros recorridos\n",
        "\n",
        "    # Tarifa base\n",
        "    tarifa_base = 6000\n",
        "    print(f\"Tarifa base: ${tarifa_base} COP\")\n",
        "\n",
        "    # Calcular tarifa según la distancia\n",
        "    if distancia <= 5:\n",
        "        print(tarifa_distancia = distancia * 1500)\n",
        "    elif distancia <= 15:\n",
        "        tarifa_distancia = (5 * 1500) + (distancia - 5) * 1200\n",
        "    else:\n",
        "        print(tarifa_distancia = (5 * 1500) + (10 * 1200) + (distancia - 15) * 1000)\n",
        "\n",
        "    print(\"Tarifa por distancia: ${tarifa_distancia:.0f} COP\")\n",
        "\n",
        "    # Calcular la tarifa por tiempo detenido\n",
        "    tarifa_detencion = tiempo_detencion * 400\n",
        "    print(\"Tarifa por tiempo de detención: ${tarifa_detencion:.0f} COP\")\n",
        "\n",
        "    # Subtotal\n",
        "    subtotal = tarifa_base + tarifa_distancia + tarifa_detencion\n",
        "    print(\"Subtotal: ${subtotal:.0f} COP\")\n",
        "\n",
        "    # Aplicar recargo nocturno si es necesario\n",
        "    if hora_inicio >= 22 or hora_inicio < 6:\n",
        "        total = subtotal * 1.2\n",
        "        print(\"Recargo nocturno aplicado: ${total:.0f} COP\")\n",
        "    else:\n",
        "        total = subtotal\n",
        "        print(\"No se aplicó recargo nocturno\")\n",
        "\n",
        "    print(total)\n",
        "\n",
        "# Ejemplo de uso del programa\n",
        "distancia = 8  # kilómetros recorridos\n",
        "tiempo_detencion = 5  # minutos detenidos\n",
        "hora_inicio = 21  # hora de inicio del viaje\n",
        "\n",
        "# Calcular el total a pagar\n",
        "total_a_pagar = calcular_tarifa_taxi(distancia, tiempo_detencion, hora_inicio)\n",
        "\n",
        "# Imprimir el resultado final\n",
        "print(\"Total a pagar: $ COP\")\n"
      ],
      "metadata": {
        "colab": {
          "base_uri": "https://localhost:8080/"
        },
        "id": "Sq1L39Msesbn",
        "outputId": "0c0a5370-215c-4ba3-e34d-6495bd83663d"
      },
      "execution_count": null,
      "outputs": [
        {
          "output_type": "stream",
          "name": "stdout",
          "text": [
            "Tarifa base: $6000 COP\n",
            "Tarifa por distancia: ${tarifa_distancia:.0f} COP\n",
            "Tarifa por tiempo de detención: ${tarifa_detencion:.0f} COP\n",
            "Subtotal: ${subtotal:.0f} COP\n",
            "No se aplicó recargo nocturno\n",
            "19100\n",
            "Total a pagar: $ COP\n"
          ]
        }
      ]
    },
    {
      "cell_type": "code",
      "source": [],
      "metadata": {
        "id": "PdmHJIs_hfl2"
      },
      "execution_count": null,
      "outputs": []
    }
  ]
}